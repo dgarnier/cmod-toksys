{
 "cells": [
  {
   "cell_type": "code",
   "execution_count": 18,
   "id": "ed29290e-2b3b-4e1c-a7f1-b2b5a2cabb8e",
   "metadata": {},
   "outputs": [],
   "source": [
    "import numpy as np\n",
    "import matplotlib.pyplot as plt\n",
    "from scipy.io import loadmat"
   ]
  },
  {
   "cell_type": "code",
   "execution_count": 19,
   "id": "4c49d9a9-2274-40a0-afac-da744d31cadf",
   "metadata": {},
   "outputs": [],
   "source": [
    "def plot_vv_fc_data(coil_data):\n",
    "    R = np.zeros((len(coil_data), 6))\n",
    "    Z = R.copy()\n",
    "    \n",
    "    for i in range(coil_data.shape[0]):\n",
    "        z, r, dz, dr, ac, ac2 = coil_data[i]\n",
    "        #l = np.sqrt(dz**2 + dr**2)\n",
    "\n",
    "        s = dr*np.tan(ac*np.pi/180)\n",
    "        c = dz/np.tan(ac2*np.pi/180) if ac2 != 0 else 0\n",
    "\n",
    "        R[i] = [ r - 0.5*(dr+c),\n",
    "                 r - 0.5*(dr-c),\n",
    "                 r + 0.5*(dr+c),\n",
    "                 r + 0.5*(dr-c),\n",
    "                 r - 0.5*(dr+c),\n",
    "                 np.NaN\n",
    "               ]\n",
    "        Z[i] = [ z - 0.5*(dz+s),\n",
    "                 z + 0.5*(dz-s),\n",
    "                 z + 0.5*(dz+s),\n",
    "                 z - 0.5*(dz-s),\n",
    "                 z - 0.5*(dz+s),\n",
    "                 np.NaN\n",
    "               ]\n",
    "    plt.plot(R.reshape(-1), Z.reshape(-1))"
   ]
  },
  {
   "cell_type": "code",
   "execution_count": 20,
   "id": "e2439d26-d065-45bd-91ed-6434f16e5702",
   "metadata": {},
   "outputs": [
    {
     "data": {
      "image/png": "[encoded data removed]",
      "text/plain": [
       "<Figure size 576x576 with 1 Axes>"
      ]
     },
     "metadata": {
      "needs_background": "light"
     },
     "output_type": "display_data"
    }
   ],
   "source": [
    "def plot_cmod_vv_data():\n",
    "    vv_data = loadmat(\"vvdata.mat\")['vvdata'].T\n",
    "    vv_data\n",
    "    plt.figure(figsize=(8,8))\n",
    "    plt.axes(aspect='equal')\n",
    "    plot_vv_fc_data(vv_data)\n",
    "    \n",
    "plot_cmod_vv_data()\n",
    "    "
   ]
  },
  {
   "cell_type": "code",
   "execution_count": 21,
   "id": "31ea5c67-19cf-4f66-b360-d4924ea2896e",
   "metadata": {},
   "outputs": [],
   "source": [
    "import ezdxf\n",
    "def vv_fc_data_dxf(coil_data, msp):\n",
    "    RZ = np.zeros((4,2))\n",
    "    \n",
    "    for i in range(coil_data.shape[0]):\n",
    "        z, r, dz, dr, ac, ac2 = coil_data[i]\n",
    "        #l = np.sqrt(dz**2 + dr**2)\n",
    "\n",
    "        s = dr*np.tan(ac*np.pi/180)\n",
    "        c = dz/np.tan(ac2*np.pi/180) if ac2 != 0 else 0\n",
    "\n",
    "        RZ[:,0] = [ \n",
    "                 r - 0.5*(dr+c),\n",
    "                 r - 0.5*(dr-c),\n",
    "                 r + 0.5*(dr+c),\n",
    "                 r + 0.5*(dr-c)\n",
    "               ]\n",
    "        RZ[:,1] = [ z - 0.5*(dz+s),\n",
    "                 z + 0.5*(dz-s),\n",
    "                 z + 0.5*(dz+s),\n",
    "                 z - 0.5*(dz-s)\n",
    "               ]\n",
    "        msp.add_lwpolyline(RZ, close=True)\n",
    "\n",
    "doc = ezdxf.new(\"R2000\")\n",
    "msp = doc.modelspace()\n",
    "vv_fc_data_dxf(vv_data, msp)\n",
    "doc.saveas(\"cmod_vvdata.dxf\")"
   ]
  },
  {
   "cell_type": "code",
   "execution_count": null,
   "id": "0ba78690-8057-48af-b9ff-41c739c367aa",
   "metadata": {},
   "outputs": [],
   "source": []
  }
 ],
 "metadata": {
  "kernelspec": {
   "display_name": "Python 3 (ipykernel)",
   "language": "python",
   "name": "python3"
  },
  "language_info": {
   "codemirror_mode": {
    "name": "ipython",
    "version": 3
   },
   "file_extension": ".py",
   "mimetype": "text/x-python",
   "name": "python",
   "nbconvert_exporter": "python",
   "pygments_lexer": "ipython3",
   "version": "3.9.10"
  }
 },
 "nbformat": 4,
 "nbformat_minor": 5
}
